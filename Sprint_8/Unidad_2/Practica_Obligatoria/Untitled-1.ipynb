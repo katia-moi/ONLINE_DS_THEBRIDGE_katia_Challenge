{
 "cells": [
  {
   "cell_type": "code",
   "execution_count": null,
   "metadata": {},
   "outputs": [],
   "source": [
    "# 3. Scatter plot of population density vs water area\n",
    "plt.subplot(2, 2, 3)  # Bottom-left\n",
    "population_density = df_cities['population_total'] / (df_cities['area_water_km2'] + 1e-9)  # Avoid division by zero\n",
    "plt.scatter(df_cities['area_water_km2'], population_density, alpha=0.7, color='green')\n",
    "plt.title('Población por kilómetro cuadrado de agua', fontsize=14)\n",
    "plt.xlabel('Área de agua en la ciudad (km²)', fontsize=12)\n",
    "plt.ylabel('Población (miles habitantes)', fontsize=12)\n",
    "# Highlight outliers\n",
    "outliers = population_density > 1000\n",
    "for i in np.where(outliers)[0]:\n",
    "    plt.annotate('Outliers', (df_cities['area_water_km2'].iloc[i], population_density.iloc[i]),\n",
    "                 textcoords=\"offset points\", xytext=(5, 5), ha='center')"
   ]
  },
  {
   "cell_type": "code",
   "execution_count": null,
   "metadata": {},
   "outputs": [],
   "source": [
    "# Scatter plot\n",
    "plt.scatter(df_cities['area_water_km2'], df_cities['population_total'], alpha=0.7, color='green')\n",
    "plt.title('Población por kilometro cuadrado de agua', fontsize=14, fontproperties=font_main)\n",
    "plt.xlabel('Área de agua en la ciudad (km²)', fontsize=12, fontproperties=font_main)\n",
    "plt.ylabel('Población (miles habitantes)', fontsize=12, fontproperties=font_main)\n",
    "\n",
    "# Highlight significant outliers\n",
    "outliers = df_cities[df_cities['population_total'] > 2000000]  # Example threshold for large populations\n",
    "for _, row in outliers.iterrows():\n",
    "    plt.annotate('Outlier',\n",
    "                 (row['area_water_km2'], row['population_total']),\n",
    "                 textcoords=\"offset points\",\n",
    "                 xytext=(10, -20),\n",
    "                 ha='center',\n",
    "                 fontproperties=font_annotation,\n",
    "                 arrowprops=dict(facecolor='black', arrowstyle='->'))\n",
    "\n",
    "# Adjust axis ranges for better clarity\n",
    "plt.xlim(0, df_cities['area_water_km2'].max() * 1.1)  # Add 10% padding on x-axis\n",
    "plt.ylim(0, df_cities['population_total'].max() * 1.1)  # Add 10% padding on y-axis\n",
    "\n",
    "# Add gridlines\n",
    "plt.grid(True, linestyle='--', alpha=0.6)"
   ]
  }
 ],
 "metadata": {
  "language_info": {
   "name": "python"
  }
 },
 "nbformat": 4,
 "nbformat_minor": 2
}
